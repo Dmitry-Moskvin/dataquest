{
 "cells": [
  {
   "cell_type": "code",
   "execution_count": 147,
   "metadata": {
    "collapsed": false
   },
   "outputs": [
    {
     "data": {
      "text/plain": [
       "(16590, 7)"
      ]
     },
     "execution_count": 147,
     "metadata": {},
     "output_type": "execute_result"
    }
   ],
   "source": [
    "import pandas as pd\n",
    "import matplotlib.pyplot as plt\n",
    "from datetime import datetime as dt \n",
    "import numpy as np\n",
    "from sklearn.linear_model import LinearRegression\n",
    "\n",
    "%matplotlib inline\n",
    "\n",
    "sphist = pd.read_csv('sphist.csv')\n",
    "sphist.shape"
   ]
  },
  {
   "cell_type": "code",
   "execution_count": 148,
   "metadata": {
    "collapsed": false
   },
   "outputs": [
    {
     "data": {
      "text/html": [
       "<div>\n",
       "<table border=\"1\" class=\"dataframe\">\n",
       "  <thead>\n",
       "    <tr style=\"text-align: right;\">\n",
       "      <th></th>\n",
       "      <th>Date</th>\n",
       "      <th>Open</th>\n",
       "      <th>High</th>\n",
       "      <th>Low</th>\n",
       "      <th>Close</th>\n",
       "      <th>Volume</th>\n",
       "      <th>Adj Close</th>\n",
       "    </tr>\n",
       "  </thead>\n",
       "  <tbody>\n",
       "    <tr>\n",
       "      <th>0</th>\n",
       "      <td>2015-12-07</td>\n",
       "      <td>2090.419922</td>\n",
       "      <td>2090.419922</td>\n",
       "      <td>2066.780029</td>\n",
       "      <td>2077.070068</td>\n",
       "      <td>4.043820e+09</td>\n",
       "      <td>2077.070068</td>\n",
       "    </tr>\n",
       "    <tr>\n",
       "      <th>1</th>\n",
       "      <td>2015-12-04</td>\n",
       "      <td>2051.239990</td>\n",
       "      <td>2093.840088</td>\n",
       "      <td>2051.239990</td>\n",
       "      <td>2091.689941</td>\n",
       "      <td>4.214910e+09</td>\n",
       "      <td>2091.689941</td>\n",
       "    </tr>\n",
       "    <tr>\n",
       "      <th>2</th>\n",
       "      <td>2015-12-03</td>\n",
       "      <td>2080.709961</td>\n",
       "      <td>2085.000000</td>\n",
       "      <td>2042.349976</td>\n",
       "      <td>2049.620117</td>\n",
       "      <td>4.306490e+09</td>\n",
       "      <td>2049.620117</td>\n",
       "    </tr>\n",
       "    <tr>\n",
       "      <th>3</th>\n",
       "      <td>2015-12-02</td>\n",
       "      <td>2101.709961</td>\n",
       "      <td>2104.270020</td>\n",
       "      <td>2077.110107</td>\n",
       "      <td>2079.510010</td>\n",
       "      <td>3.950640e+09</td>\n",
       "      <td>2079.510010</td>\n",
       "    </tr>\n",
       "  </tbody>\n",
       "</table>\n",
       "</div>"
      ],
      "text/plain": [
       "         Date         Open         High          Low        Close  \\\n",
       "0  2015-12-07  2090.419922  2090.419922  2066.780029  2077.070068   \n",
       "1  2015-12-04  2051.239990  2093.840088  2051.239990  2091.689941   \n",
       "2  2015-12-03  2080.709961  2085.000000  2042.349976  2049.620117   \n",
       "3  2015-12-02  2101.709961  2104.270020  2077.110107  2079.510010   \n",
       "\n",
       "         Volume    Adj Close  \n",
       "0  4.043820e+09  2077.070068  \n",
       "1  4.214910e+09  2091.689941  \n",
       "2  4.306490e+09  2049.620117  \n",
       "3  3.950640e+09  2079.510010  "
      ]
     },
     "execution_count": 148,
     "metadata": {},
     "output_type": "execute_result"
    }
   ],
   "source": [
    "sphist.head(4)"
   ]
  },
  {
   "cell_type": "code",
   "execution_count": 149,
   "metadata": {
    "collapsed": false
   },
   "outputs": [],
   "source": [
    "sphist.Date = pd.to_datetime(sphist.Date)\n",
    "sphist = sphist.sort_values(by = 'Date', ascending=False)"
   ]
  },
  {
   "cell_type": "markdown",
   "metadata": {},
   "source": [
    "## Time Series statistical [computations](http://pandas.pydata.org/pandas-docs/stable/computation.html)"
   ]
  },
  {
   "cell_type": "markdown",
   "metadata": {},
   "source": [
    "### 5 days window"
   ]
  },
  {
   "cell_type": "code",
   "execution_count": 150,
   "metadata": {
    "collapsed": false
   },
   "outputs": [],
   "source": [
    "for row in sphist.iterrows():\n",
    "    if row[1][0] < dt(1950, 1, 10):\n",
    "        break\n",
    "    else:\n",
    "        sphist.loc[row[0],'day_5'] = np.mean(sphist.loc[row[0] + 1 : row[0] +5, 'Close'])\n",
    "        sphist.loc[row[0],'day_5_std'] = np.std(sphist.loc[row[0] + 1 : row[0] +5, 'Close'])"
   ]
  },
  {
   "cell_type": "markdown",
   "metadata": {},
   "source": [
    "### 30 days window"
   ]
  },
  {
   "cell_type": "code",
   "execution_count": 151,
   "metadata": {
    "collapsed": true
   },
   "outputs": [],
   "source": [
    "for row in sphist.iterrows():\n",
    "    if row[1][0] < dt(1950, 2, 14):\n",
    "        break\n",
    "    else:\n",
    "        sphist.loc[row[0],'day_30'] = np.mean(sphist.loc[row[0] + 1 : row[0] +30, 'Close'])\n",
    "        sphist.loc[row[0],'day_30_std'] = np.std(sphist.loc[row[0] + 1 : row[0] +30, 'Close'])"
   ]
  },
  {
   "cell_type": "markdown",
   "metadata": {},
   "source": [
    "### 365 days window"
   ]
  },
  {
   "cell_type": "code",
   "execution_count": 152,
   "metadata": {
    "collapsed": true
   },
   "outputs": [],
   "source": [
    "for row in sphist.iterrows():\n",
    "    if row[1][0] < dt(1951, 6, 18):\n",
    "        break\n",
    "    else:\n",
    "        sphist.loc[row[0],'day_365'] = np.mean(sphist.loc[row[0] + 1 : row[0] +365, 'Close'])\n",
    "        sphist.loc[row[0],'day_365_std'] = np.std(sphist.loc[row[0] + 1 : row[0] +365, 'Close'])"
   ]
  },
  {
   "cell_type": "code",
   "execution_count": 153,
   "metadata": {
    "collapsed": true
   },
   "outputs": [],
   "source": [
    "sphist['5_365_mean_ratio'] = sphist.day_5 / sphist.day_365\n",
    "sphist['5_365_std_ratio'] = sphist.day_5_std / sphist.day_365_std\n",
    "\n",
    "sphist['5_30_mean_ratio'] = sphist.day_5 / sphist.day_30\n",
    "sphist['5_30_std_ratio'] = sphist.day_5_std / sphist.day_30_std"
   ]
  },
  {
   "cell_type": "code",
   "execution_count": 154,
   "metadata": {
    "collapsed": false
   },
   "outputs": [],
   "source": [
    "sphist['day_of_week'] = sphist['Date'].dt.dayofweek"
   ]
  },
  {
   "cell_type": "code",
   "execution_count": 155,
   "metadata": {
    "collapsed": false
   },
   "outputs": [],
   "source": [
    "sphist = pd.concat([sphist.drop('day_of_week', axis=1), pd.get_dummies(sphist['day_of_week'], prefix='dow')], axis=1)"
   ]
  },
  {
   "cell_type": "code",
   "execution_count": 156,
   "metadata": {
    "collapsed": true
   },
   "outputs": [],
   "source": [
    "sphist.dropna(axis=0, inplace=True)"
   ]
  },
  {
   "cell_type": "code",
   "execution_count": 157,
   "metadata": {
    "collapsed": false
   },
   "outputs": [
    {
     "data": {
      "text/html": [
       "<div>\n",
       "<table border=\"1\" class=\"dataframe\">\n",
       "  <thead>\n",
       "    <tr style=\"text-align: right;\">\n",
       "      <th></th>\n",
       "      <th>Date</th>\n",
       "      <th>Open</th>\n",
       "      <th>High</th>\n",
       "      <th>Low</th>\n",
       "      <th>Close</th>\n",
       "      <th>Volume</th>\n",
       "      <th>Adj Close</th>\n",
       "      <th>day_5</th>\n",
       "      <th>day_5_std</th>\n",
       "      <th>day_30</th>\n",
       "      <th>...</th>\n",
       "      <th>day_365_std</th>\n",
       "      <th>5_365_mean_ratio</th>\n",
       "      <th>5_365_std_ratio</th>\n",
       "      <th>5_30_mean_ratio</th>\n",
       "      <th>5_30_std_ratio</th>\n",
       "      <th>dow_0</th>\n",
       "      <th>dow_1</th>\n",
       "      <th>dow_2</th>\n",
       "      <th>dow_3</th>\n",
       "      <th>dow_4</th>\n",
       "    </tr>\n",
       "  </thead>\n",
       "  <tbody>\n",
       "    <tr>\n",
       "      <th>0</th>\n",
       "      <td>2015-12-07</td>\n",
       "      <td>2090.419922</td>\n",
       "      <td>2090.419922</td>\n",
       "      <td>2066.780029</td>\n",
       "      <td>2077.070068</td>\n",
       "      <td>4.043820e+09</td>\n",
       "      <td>2077.070068</td>\n",
       "      <td>2080.771973</td>\n",
       "      <td>17.715146</td>\n",
       "      <td>2080.237329</td>\n",
       "      <td>...</td>\n",
       "      <td>63.971050</td>\n",
       "      <td>1.021554</td>\n",
       "      <td>0.276924</td>\n",
       "      <td>1.000257</td>\n",
       "      <td>0.915715</td>\n",
       "      <td>1</td>\n",
       "      <td>0</td>\n",
       "      <td>0</td>\n",
       "      <td>0</td>\n",
       "      <td>0</td>\n",
       "    </tr>\n",
       "    <tr>\n",
       "      <th>1</th>\n",
       "      <td>2015-12-04</td>\n",
       "      <td>2051.239990</td>\n",
       "      <td>2093.840088</td>\n",
       "      <td>2051.239990</td>\n",
       "      <td>2091.689941</td>\n",
       "      <td>4.214910e+09</td>\n",
       "      <td>2091.689941</td>\n",
       "      <td>2080.456006</td>\n",
       "      <td>17.530725</td>\n",
       "      <td>2078.931331</td>\n",
       "      <td>...</td>\n",
       "      <td>64.033724</td>\n",
       "      <td>1.021580</td>\n",
       "      <td>0.273773</td>\n",
       "      <td>1.000733</td>\n",
       "      <td>0.883404</td>\n",
       "      <td>0</td>\n",
       "      <td>0</td>\n",
       "      <td>0</td>\n",
       "      <td>0</td>\n",
       "      <td>1</td>\n",
       "    </tr>\n",
       "    <tr>\n",
       "      <th>2</th>\n",
       "      <td>2015-12-03</td>\n",
       "      <td>2080.709961</td>\n",
       "      <td>2085.000000</td>\n",
       "      <td>2042.349976</td>\n",
       "      <td>2049.620117</td>\n",
       "      <td>4.306490e+09</td>\n",
       "      <td>2049.620117</td>\n",
       "      <td>2088.306006</td>\n",
       "      <td>8.348225</td>\n",
       "      <td>2077.908659</td>\n",
       "      <td>...</td>\n",
       "      <td>64.189442</td>\n",
       "      <td>1.025573</td>\n",
       "      <td>0.130056</td>\n",
       "      <td>1.005004</td>\n",
       "      <td>0.379431</td>\n",
       "      <td>0</td>\n",
       "      <td>0</td>\n",
       "      <td>0</td>\n",
       "      <td>1</td>\n",
       "      <td>0</td>\n",
       "    </tr>\n",
       "    <tr>\n",
       "      <th>3</th>\n",
       "      <td>2015-12-02</td>\n",
       "      <td>2101.709961</td>\n",
       "      <td>2104.270020</td>\n",
       "      <td>2077.110107</td>\n",
       "      <td>2079.510010</td>\n",
       "      <td>3.950640e+09</td>\n",
       "      <td>2079.510010</td>\n",
       "      <td>2090.231982</td>\n",
       "      <td>7.116786</td>\n",
       "      <td>2076.283993</td>\n",
       "      <td>...</td>\n",
       "      <td>64.264312</td>\n",
       "      <td>1.026680</td>\n",
       "      <td>0.110742</td>\n",
       "      <td>1.006718</td>\n",
       "      <td>0.301974</td>\n",
       "      <td>0</td>\n",
       "      <td>0</td>\n",
       "      <td>1</td>\n",
       "      <td>0</td>\n",
       "      <td>0</td>\n",
       "    </tr>\n",
       "    <tr>\n",
       "      <th>4</th>\n",
       "      <td>2015-12-01</td>\n",
       "      <td>2082.929932</td>\n",
       "      <td>2103.370117</td>\n",
       "      <td>2082.929932</td>\n",
       "      <td>2102.629883</td>\n",
       "      <td>3.712120e+09</td>\n",
       "      <td>2102.629883</td>\n",
       "      <td>2087.024023</td>\n",
       "      <td>3.502675</td>\n",
       "      <td>2073.984998</td>\n",
       "      <td>...</td>\n",
       "      <td>64.282022</td>\n",
       "      <td>1.025297</td>\n",
       "      <td>0.054489</td>\n",
       "      <td>1.006287</td>\n",
       "      <td>0.144501</td>\n",
       "      <td>0</td>\n",
       "      <td>1</td>\n",
       "      <td>0</td>\n",
       "      <td>0</td>\n",
       "      <td>0</td>\n",
       "    </tr>\n",
       "  </tbody>\n",
       "</table>\n",
       "<p>5 rows × 22 columns</p>\n",
       "</div>"
      ],
      "text/plain": [
       "        Date         Open         High          Low        Close  \\\n",
       "0 2015-12-07  2090.419922  2090.419922  2066.780029  2077.070068   \n",
       "1 2015-12-04  2051.239990  2093.840088  2051.239990  2091.689941   \n",
       "2 2015-12-03  2080.709961  2085.000000  2042.349976  2049.620117   \n",
       "3 2015-12-02  2101.709961  2104.270020  2077.110107  2079.510010   \n",
       "4 2015-12-01  2082.929932  2103.370117  2082.929932  2102.629883   \n",
       "\n",
       "         Volume    Adj Close        day_5  day_5_std       day_30  ...    \\\n",
       "0  4.043820e+09  2077.070068  2080.771973  17.715146  2080.237329  ...     \n",
       "1  4.214910e+09  2091.689941  2080.456006  17.530725  2078.931331  ...     \n",
       "2  4.306490e+09  2049.620117  2088.306006   8.348225  2077.908659  ...     \n",
       "3  3.950640e+09  2079.510010  2090.231982   7.116786  2076.283993  ...     \n",
       "4  3.712120e+09  2102.629883  2087.024023   3.502675  2073.984998  ...     \n",
       "\n",
       "   day_365_std  5_365_mean_ratio  5_365_std_ratio  5_30_mean_ratio  \\\n",
       "0    63.971050          1.021554         0.276924         1.000257   \n",
       "1    64.033724          1.021580         0.273773         1.000733   \n",
       "2    64.189442          1.025573         0.130056         1.005004   \n",
       "3    64.264312          1.026680         0.110742         1.006718   \n",
       "4    64.282022          1.025297         0.054489         1.006287   \n",
       "\n",
       "   5_30_std_ratio  dow_0  dow_1  dow_2  dow_3  dow_4  \n",
       "0        0.915715      1      0      0      0      0  \n",
       "1        0.883404      0      0      0      0      1  \n",
       "2        0.379431      0      0      0      1      0  \n",
       "3        0.301974      0      0      1      0      0  \n",
       "4        0.144501      0      1      0      0      0  \n",
       "\n",
       "[5 rows x 22 columns]"
      ]
     },
     "execution_count": 157,
     "metadata": {},
     "output_type": "execute_result"
    }
   ],
   "source": [
    "sphist.head()"
   ]
  },
  {
   "cell_type": "code",
   "execution_count": 158,
   "metadata": {
    "collapsed": true
   },
   "outputs": [],
   "source": [
    "sphist_old = sphist\n",
    "train = sphist[sphist['Date'] < dt(2013,1,1)]\n",
    "test = sphist[sphist['Date'] >= dt(2013,1,1)]"
   ]
  },
  {
   "cell_type": "code",
   "execution_count": 159,
   "metadata": {
    "collapsed": false
   },
   "outputs": [],
   "source": [
    "train_cols = ['day_5', 'day_5_std',\n",
    "              'day_30', 'day_30_std',\n",
    "              'day_365', 'day_365_std',\n",
    "              '5_30_mean_ratio', '5_30_std_ratio',\n",
    "              '5_365_mean_ratio', '5_365_std_ratio',\n",
    "              'dow_0', 'dow_1', 'dow_2', 'dow_3', 'dow_4'\n",
    "             ]\n",
    "target = 'Close'\n",
    "\n",
    "lr = LinearRegression()\n",
    "model = lr.fit(X = train[train_cols],y = train[target])\n",
    "predictions = model.predict(test[train_cols])\n",
    "\n",
    "MAE = np.mean(np.abs(predictions - test[target]))"
   ]
  },
  {
   "cell_type": "code",
   "execution_count": 160,
   "metadata": {
    "collapsed": false
   },
   "outputs": [
    {
     "data": {
      "text/plain": [
       "16.22134671136525"
      ]
     },
     "execution_count": 160,
     "metadata": {},
     "output_type": "execute_result"
    }
   ],
   "source": [
    "MAE"
   ]
  },
  {
   "cell_type": "code",
   "execution_count": 161,
   "metadata": {
    "collapsed": false
   },
   "outputs": [
    {
     "data": {
      "image/png": "[encoded data removed]",
      "text/plain": [
       "<matplotlib.figure.Figure at 0x26edd49dd68>"
      ]
     },
     "metadata": {},
     "output_type": "display_data"
    }
   ],
   "source": [
    "plt.figure(figsize=(18,5))\n",
    "plt.xlabel('Predictions of S&P500')\n",
    "\n",
    "ax1 = test.Close.plot(color='blue', grid=True, label='real')\n",
    "ax2 = plt.plot(list(predictions),color='red')\n",
    "\n",
    "plt.show()"
   ]
  },
  {
   "cell_type": "markdown",
   "metadata": {},
   "source": [
    "### Some metrics that can make model better!"
   ]
  },
  {
   "cell_type": "markdown",
   "metadata": {},
   "source": [
    "* The average volume over the past five days.\n",
    "* The ratio between the average volume for the past five days, and the average volume for the past year.\n",
    "* The standard deviation of the average volume over the past five days.\n",
    "* The standard deviation of the average volume over the past year.\n",
    "* The ratio between the standard deviation of the average volume for the past five days, and the standard deviation of the average volume for the past year.\n",
    "* The year component of the date.\n",
    "* The ratio between the lowest price in the past year and the current price.\n",
    "* The ratio between the highest price in the past year and the current price.\n",
    "* The year component of the date.\n",
    "* The month component of the date.\n",
    "* The day of week.\n",
    "* The day component of the date.\n",
    "* The number of holidays in the prior month."
   ]
  },
  {
   "cell_type": "markdown",
   "metadata": {},
   "source": [
    "### Some advices\n",
    "* You can also incorporate outside data, such as the weather in New York City (where most trading happens) the day before, and the amount of Twitter activity around certain stocks.\n",
    "\n",
    "* You can also make the system real-time by writing an automated script to download the latest data when the market closes, and make predictions for the next day.\n",
    "\n",
    "* Finally, you can make the system \"higher-resolution\". You're currently making daily predictions, but you could make hourly, minute-by-minute, or second by second predictions. This will require obtaining more data, though. You could also make predictions for individual stocks instead of the S&P500."
   ]
  }
 ],
 "metadata": {
  "kernelspec": {
   "display_name": "Python 3",
   "language": "python",
   "name": "python3"
  },
  "language_info": {
   "codemirror_mode": {
    "name": "ipython",
    "version": 3
   },
   "file_extension": ".py",
   "mimetype": "text/x-python",
   "name": "python",
   "nbconvert_exporter": "python",
   "pygments_lexer": "ipython3",
   "version": "3.6.0"
  }
 },
 "nbformat": 4,
 "nbformat_minor": 2
}
