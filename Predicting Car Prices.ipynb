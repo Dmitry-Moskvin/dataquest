{
 "cells": [
  {
   "cell_type": "code",
   "execution_count": 1,
   "metadata": {
    "collapsed": true
   },
   "outputs": [],
   "source": [
    "import pandas as pd\n",
    "import numpy as np\n",
    "from sklearn.neighbors import KNeighborsRegressor\n",
    "from sklearn.metrics import mean_squared_error\n",
    "import matplotlib.pyplot as plt\n",
    "%matplotlib inline"
   ]
  },
  {
   "cell_type": "markdown",
   "metadata": {},
   "source": [
    "Example of solutions: [Mission155Solutions](https://github.com/dataquestio/solutions/blob/master/Mission155Solutions.ipynb)"
   ]
  },
  {
   "cell_type": "code",
   "execution_count": 2,
   "metadata": {
    "collapsed": true
   },
   "outputs": [],
   "source": [
    "cols = ['symboling: -3, -2, -1, 0, 1, 2, 3.',\n",
    "        'normalized-losses: continuous from 65 to 256.',\n",
    "        'make: alfa-romero, audi, bmw, chevrolet, dodge, honda, isuzu, jaguar, mazda, mercedes-benz, mercury, mitsubishi, nissan, peugot, plymouth, porsche, renault, saab, subaru, toyota, volkswagen, volvo ',\n",
    "        'fuel-type: diesel, gas. ',\n",
    "        'aspiration: std, turbo. ',\n",
    "        'num-of-doors: four, two. ',\n",
    "        'body-style: hardtop, wagon, sedan, hatchback, convertible. ',\n",
    "        'drive-wheels: 4wd, fwd, rwd.', \n",
    "        'engine-location: front, rear. ',\n",
    "        'wheel-base: continuous from 86.6 120.9. ',\n",
    "        'length: continuous from 141.1 to 208.1. ',\n",
    "        'width: continuous from 60.3 to 72.3. ',\n",
    "        'height: continuous from 47.8 to 59.8. ',\n",
    "        'curb-weight: continuous from 1488 to 4066. ',\n",
    "        'engine-type: dohc, dohcv, l, ohc, ohcf, ohcv, rotor.', \n",
    "        'num-of-cylinders: eight, five, four, six, three, twelve, two. ',\n",
    "        'engine-size: continuous from 61 to 326. ',\n",
    "        'fuel-system: 1bbl, 2bbl, 4bbl, idi, mfi, mpfi, spdi, spfi. ',\n",
    "        'bore: continuous from 2.54 to 3.94. ',\n",
    "        'stroke: continuous from 2.07 to 4.17. ',\n",
    "        'compression-ratio: continuous from 7 to 23.', \n",
    "        'horsepower: continuous from 48 to 288. ',\n",
    "        'peak-rpm: continuous from 4150 to 6600. ',\n",
    "        'city-mpg: continuous from 13 to 49. ',\n",
    "        'highway-mpg: continuous from 16 to 54.', \n",
    "        'price: continuous from 5118 to 45400.'\n",
    "       ]"
   ]
  },
  {
   "cell_type": "code",
   "execution_count": 3,
   "metadata": {
    "collapsed": false
   },
   "outputs": [],
   "source": [
    "cols = [i.split(':')[0] for i in cols]"
   ]
  },
  {
   "cell_type": "code",
   "execution_count": 4,
   "metadata": {
    "collapsed": true
   },
   "outputs": [],
   "source": [
    "cars = pd.read_csv('imports-85.data',names = cols)"
   ]
  },
  {
   "cell_type": "code",
   "execution_count": 5,
   "metadata": {
    "collapsed": false
   },
   "outputs": [
    {
     "data": {
      "text/plain": [
       "(205, 26)"
      ]
     },
     "execution_count": 5,
     "metadata": {},
     "output_type": "execute_result"
    }
   ],
   "source": [
    "cars.shape"
   ]
  },
  {
   "cell_type": "code",
   "execution_count": 6,
   "metadata": {
    "collapsed": false
   },
   "outputs": [
    {
     "data": {
      "text/html": [
       "<div>\n",
       "<table border=\"1\" class=\"dataframe\">\n",
       "  <thead>\n",
       "    <tr style=\"text-align: right;\">\n",
       "      <th></th>\n",
       "      <th>symboling</th>\n",
       "      <th>normalized-losses</th>\n",
       "      <th>make</th>\n",
       "      <th>fuel-type</th>\n",
       "      <th>aspiration</th>\n",
       "      <th>num-of-doors</th>\n",
       "      <th>body-style</th>\n",
       "      <th>drive-wheels</th>\n",
       "      <th>engine-location</th>\n",
       "      <th>wheel-base</th>\n",
       "      <th>...</th>\n",
       "      <th>engine-size</th>\n",
       "      <th>fuel-system</th>\n",
       "      <th>bore</th>\n",
       "      <th>stroke</th>\n",
       "      <th>compression-ratio</th>\n",
       "      <th>horsepower</th>\n",
       "      <th>peak-rpm</th>\n",
       "      <th>city-mpg</th>\n",
       "      <th>highway-mpg</th>\n",
       "      <th>price</th>\n",
       "    </tr>\n",
       "  </thead>\n",
       "  <tbody>\n",
       "    <tr>\n",
       "      <th>0</th>\n",
       "      <td>3</td>\n",
       "      <td>?</td>\n",
       "      <td>alfa-romero</td>\n",
       "      <td>gas</td>\n",
       "      <td>std</td>\n",
       "      <td>two</td>\n",
       "      <td>convertible</td>\n",
       "      <td>rwd</td>\n",
       "      <td>front</td>\n",
       "      <td>88.6</td>\n",
       "      <td>...</td>\n",
       "      <td>130</td>\n",
       "      <td>mpfi</td>\n",
       "      <td>3.47</td>\n",
       "      <td>2.68</td>\n",
       "      <td>9.0</td>\n",
       "      <td>111</td>\n",
       "      <td>5000</td>\n",
       "      <td>21</td>\n",
       "      <td>27</td>\n",
       "      <td>13495</td>\n",
       "    </tr>\n",
       "    <tr>\n",
       "      <th>1</th>\n",
       "      <td>3</td>\n",
       "      <td>?</td>\n",
       "      <td>alfa-romero</td>\n",
       "      <td>gas</td>\n",
       "      <td>std</td>\n",
       "      <td>two</td>\n",
       "      <td>convertible</td>\n",
       "      <td>rwd</td>\n",
       "      <td>front</td>\n",
       "      <td>88.6</td>\n",
       "      <td>...</td>\n",
       "      <td>130</td>\n",
       "      <td>mpfi</td>\n",
       "      <td>3.47</td>\n",
       "      <td>2.68</td>\n",
       "      <td>9.0</td>\n",
       "      <td>111</td>\n",
       "      <td>5000</td>\n",
       "      <td>21</td>\n",
       "      <td>27</td>\n",
       "      <td>16500</td>\n",
       "    </tr>\n",
       "    <tr>\n",
       "      <th>2</th>\n",
       "      <td>1</td>\n",
       "      <td>?</td>\n",
       "      <td>alfa-romero</td>\n",
       "      <td>gas</td>\n",
       "      <td>std</td>\n",
       "      <td>two</td>\n",
       "      <td>hatchback</td>\n",
       "      <td>rwd</td>\n",
       "      <td>front</td>\n",
       "      <td>94.5</td>\n",
       "      <td>...</td>\n",
       "      <td>152</td>\n",
       "      <td>mpfi</td>\n",
       "      <td>2.68</td>\n",
       "      <td>3.47</td>\n",
       "      <td>9.0</td>\n",
       "      <td>154</td>\n",
       "      <td>5000</td>\n",
       "      <td>19</td>\n",
       "      <td>26</td>\n",
       "      <td>16500</td>\n",
       "    </tr>\n",
       "    <tr>\n",
       "      <th>3</th>\n",
       "      <td>2</td>\n",
       "      <td>164</td>\n",
       "      <td>audi</td>\n",
       "      <td>gas</td>\n",
       "      <td>std</td>\n",
       "      <td>four</td>\n",
       "      <td>sedan</td>\n",
       "      <td>fwd</td>\n",
       "      <td>front</td>\n",
       "      <td>99.8</td>\n",
       "      <td>...</td>\n",
       "      <td>109</td>\n",
       "      <td>mpfi</td>\n",
       "      <td>3.19</td>\n",
       "      <td>3.40</td>\n",
       "      <td>10.0</td>\n",
       "      <td>102</td>\n",
       "      <td>5500</td>\n",
       "      <td>24</td>\n",
       "      <td>30</td>\n",
       "      <td>13950</td>\n",
       "    </tr>\n",
       "    <tr>\n",
       "      <th>4</th>\n",
       "      <td>2</td>\n",
       "      <td>164</td>\n",
       "      <td>audi</td>\n",
       "      <td>gas</td>\n",
       "      <td>std</td>\n",
       "      <td>four</td>\n",
       "      <td>sedan</td>\n",
       "      <td>4wd</td>\n",
       "      <td>front</td>\n",
       "      <td>99.4</td>\n",
       "      <td>...</td>\n",
       "      <td>136</td>\n",
       "      <td>mpfi</td>\n",
       "      <td>3.19</td>\n",
       "      <td>3.40</td>\n",
       "      <td>8.0</td>\n",
       "      <td>115</td>\n",
       "      <td>5500</td>\n",
       "      <td>18</td>\n",
       "      <td>22</td>\n",
       "      <td>17450</td>\n",
       "    </tr>\n",
       "  </tbody>\n",
       "</table>\n",
       "<p>5 rows × 26 columns</p>\n",
       "</div>"
      ],
      "text/plain": [
       "   symboling normalized-losses         make fuel-type aspiration num-of-doors  \\\n",
       "0          3                 ?  alfa-romero       gas        std          two   \n",
       "1          3                 ?  alfa-romero       gas        std          two   \n",
       "2          1                 ?  alfa-romero       gas        std          two   \n",
       "3          2               164         audi       gas        std         four   \n",
       "4          2               164         audi       gas        std         four   \n",
       "\n",
       "    body-style drive-wheels engine-location  wheel-base  ...    engine-size  \\\n",
       "0  convertible          rwd           front        88.6  ...            130   \n",
       "1  convertible          rwd           front        88.6  ...            130   \n",
       "2    hatchback          rwd           front        94.5  ...            152   \n",
       "3        sedan          fwd           front        99.8  ...            109   \n",
       "4        sedan          4wd           front        99.4  ...            136   \n",
       "\n",
       "   fuel-system  bore  stroke compression-ratio horsepower  peak-rpm city-mpg  \\\n",
       "0         mpfi  3.47    2.68               9.0        111      5000       21   \n",
       "1         mpfi  3.47    2.68               9.0        111      5000       21   \n",
       "2         mpfi  2.68    3.47               9.0        154      5000       19   \n",
       "3         mpfi  3.19    3.40              10.0        102      5500       24   \n",
       "4         mpfi  3.19    3.40               8.0        115      5500       18   \n",
       "\n",
       "  highway-mpg  price  \n",
       "0          27  13495  \n",
       "1          27  16500  \n",
       "2          26  16500  \n",
       "3          30  13950  \n",
       "4          22  17450  \n",
       "\n",
       "[5 rows x 26 columns]"
      ]
     },
     "execution_count": 6,
     "metadata": {},
     "output_type": "execute_result"
    }
   ],
   "source": [
    "cars.head()"
   ]
  },
  {
   "cell_type": "code",
   "execution_count": 7,
   "metadata": {
    "collapsed": false
   },
   "outputs": [],
   "source": [
    "cars.replace({'?' : np.nan}, inplace=True)"
   ]
  },
  {
   "cell_type": "code",
   "execution_count": 8,
   "metadata": {
    "collapsed": false
   },
   "outputs": [
    {
     "name": "stdout",
     "output_type": "stream",
     "text": [
      "<class 'pandas.core.frame.DataFrame'>\n",
      "RangeIndex: 205 entries, 0 to 204\n",
      "Data columns (total 26 columns):\n",
      "symboling            205 non-null int64\n",
      "normalized-losses    164 non-null object\n",
      "make                 205 non-null object\n",
      "fuel-type            205 non-null object\n",
      "aspiration           205 non-null object\n",
      "num-of-doors         203 non-null object\n",
      "body-style           205 non-null object\n",
      "drive-wheels         205 non-null object\n",
      "engine-location      205 non-null object\n",
      "wheel-base           205 non-null float64\n",
      "length               205 non-null float64\n",
      "width                205 non-null float64\n",
      "height               205 non-null float64\n",
      "curb-weight          205 non-null int64\n",
      "engine-type          205 non-null object\n",
      "num-of-cylinders     205 non-null object\n",
      "engine-size          205 non-null int64\n",
      "fuel-system          205 non-null object\n",
      "bore                 201 non-null object\n",
      "stroke               201 non-null object\n",
      "compression-ratio    205 non-null float64\n",
      "horsepower           203 non-null object\n",
      "peak-rpm             203 non-null object\n",
      "city-mpg             205 non-null int64\n",
      "highway-mpg          205 non-null int64\n",
      "price                201 non-null object\n",
      "dtypes: float64(5), int64(5), object(16)\n",
      "memory usage: 41.7+ KB\n"
     ]
    }
   ],
   "source": [
    "cars.info()"
   ]
  },
  {
   "cell_type": "code",
   "execution_count": 9,
   "metadata": {
    "collapsed": false
   },
   "outputs": [],
   "source": [
    "cars.drop('normalized-losses', axis = 1, inplace= True)"
   ]
  },
  {
   "cell_type": "code",
   "execution_count": 10,
   "metadata": {
    "collapsed": true
   },
   "outputs": [],
   "source": [
    "to_numeric = ['bore', 'stroke', 'horsepower', 'peak-rpm','price']"
   ]
  },
  {
   "cell_type": "code",
   "execution_count": 11,
   "metadata": {
    "collapsed": false
   },
   "outputs": [],
   "source": [
    "cars[to_numeric] = cars[to_numeric].astype('float')"
   ]
  },
  {
   "cell_type": "code",
   "execution_count": 12,
   "metadata": {
    "collapsed": false
   },
   "outputs": [
    {
     "name": "stdout",
     "output_type": "stream",
     "text": [
      "<class 'pandas.core.frame.DataFrame'>\n",
      "RangeIndex: 205 entries, 0 to 204\n",
      "Data columns (total 25 columns):\n",
      "symboling            205 non-null int64\n",
      "make                 205 non-null object\n",
      "fuel-type            205 non-null object\n",
      "aspiration           205 non-null object\n",
      "num-of-doors         203 non-null object\n",
      "body-style           205 non-null object\n",
      "drive-wheels         205 non-null object\n",
      "engine-location      205 non-null object\n",
      "wheel-base           205 non-null float64\n",
      "length               205 non-null float64\n",
      "width                205 non-null float64\n",
      "height               205 non-null float64\n",
      "curb-weight          205 non-null int64\n",
      "engine-type          205 non-null object\n",
      "num-of-cylinders     205 non-null object\n",
      "engine-size          205 non-null int64\n",
      "fuel-system          205 non-null object\n",
      "bore                 201 non-null float64\n",
      "stroke               201 non-null float64\n",
      "compression-ratio    205 non-null float64\n",
      "horsepower           203 non-null float64\n",
      "peak-rpm             203 non-null float64\n",
      "city-mpg             205 non-null int64\n",
      "highway-mpg          205 non-null int64\n",
      "price                201 non-null float64\n",
      "dtypes: float64(10), int64(5), object(10)\n",
      "memory usage: 40.1+ KB\n"
     ]
    }
   ],
   "source": [
    "cars.info()"
   ]
  },
  {
   "cell_type": "code",
   "execution_count": 13,
   "metadata": {
    "collapsed": false
   },
   "outputs": [
    {
     "data": {
      "text/plain": [
       "(205, 25)"
      ]
     },
     "execution_count": 13,
     "metadata": {},
     "output_type": "execute_result"
    }
   ],
   "source": [
    "cars.shape"
   ]
  },
  {
   "cell_type": "markdown",
   "metadata": {},
   "source": [
    "### Fill NaN values by means"
   ]
  },
  {
   "cell_type": "code",
   "execution_count": 14,
   "metadata": {
    "collapsed": false
   },
   "outputs": [],
   "source": [
    "cars_mean = cars.fillna(cars.mean())"
   ]
  },
  {
   "cell_type": "code",
   "execution_count": 15,
   "metadata": {
    "collapsed": false
   },
   "outputs": [],
   "source": [
    "number_columns = list(cars_mean.select_dtypes(include=[np.number]).columns)"
   ]
  },
  {
   "cell_type": "code",
   "execution_count": 16,
   "metadata": {
    "collapsed": false
   },
   "outputs": [],
   "source": [
    "cars_mean[number_columns] = (cars_mean[number_columns]-cars_mean[number_columns].mean())/cars_mean[number_columns].std()"
   ]
  },
  {
   "cell_type": "code",
   "execution_count": 17,
   "metadata": {
    "collapsed": false
   },
   "outputs": [
    {
     "data": {
      "text/html": [
       "<div>\n",
       "<table border=\"1\" class=\"dataframe\">\n",
       "  <thead>\n",
       "    <tr style=\"text-align: right;\">\n",
       "      <th></th>\n",
       "      <th>symboling</th>\n",
       "      <th>make</th>\n",
       "      <th>fuel-type</th>\n",
       "      <th>aspiration</th>\n",
       "      <th>num-of-doors</th>\n",
       "      <th>body-style</th>\n",
       "      <th>drive-wheels</th>\n",
       "      <th>engine-location</th>\n",
       "      <th>wheel-base</th>\n",
       "      <th>length</th>\n",
       "      <th>...</th>\n",
       "      <th>engine-size</th>\n",
       "      <th>fuel-system</th>\n",
       "      <th>bore</th>\n",
       "      <th>stroke</th>\n",
       "      <th>compression-ratio</th>\n",
       "      <th>horsepower</th>\n",
       "      <th>peak-rpm</th>\n",
       "      <th>city-mpg</th>\n",
       "      <th>highway-mpg</th>\n",
       "      <th>price</th>\n",
       "    </tr>\n",
       "  </thead>\n",
       "  <tbody>\n",
       "    <tr>\n",
       "      <th>0</th>\n",
       "      <td>1.739213</td>\n",
       "      <td>alfa-romero</td>\n",
       "      <td>gas</td>\n",
       "      <td>std</td>\n",
       "      <td>two</td>\n",
       "      <td>convertible</td>\n",
       "      <td>rwd</td>\n",
       "      <td>front</td>\n",
       "      <td>-1.686643</td>\n",
       "      <td>-0.425480</td>\n",
       "      <td>...</td>\n",
       "      <td>0.074267</td>\n",
       "      <td>mpfi</td>\n",
       "      <td>0.517822</td>\n",
       "      <td>-1.834912</td>\n",
       "      <td>-0.287645</td>\n",
       "      <td>0.170647</td>\n",
       "      <td>-0.262841</td>\n",
       "      <td>-0.644974</td>\n",
       "      <td>-0.544725</td>\n",
       "      <td>0.036584</td>\n",
       "    </tr>\n",
       "    <tr>\n",
       "      <th>1</th>\n",
       "      <td>1.739213</td>\n",
       "      <td>alfa-romero</td>\n",
       "      <td>gas</td>\n",
       "      <td>std</td>\n",
       "      <td>two</td>\n",
       "      <td>convertible</td>\n",
       "      <td>rwd</td>\n",
       "      <td>front</td>\n",
       "      <td>-1.686643</td>\n",
       "      <td>-0.425480</td>\n",
       "      <td>...</td>\n",
       "      <td>0.074267</td>\n",
       "      <td>mpfi</td>\n",
       "      <td>0.517822</td>\n",
       "      <td>-1.834912</td>\n",
       "      <td>-0.287645</td>\n",
       "      <td>0.170647</td>\n",
       "      <td>-0.262841</td>\n",
       "      <td>-0.644974</td>\n",
       "      <td>-0.544725</td>\n",
       "      <td>0.418473</td>\n",
       "    </tr>\n",
       "    <tr>\n",
       "      <th>2</th>\n",
       "      <td>0.133183</td>\n",
       "      <td>alfa-romero</td>\n",
       "      <td>gas</td>\n",
       "      <td>std</td>\n",
       "      <td>two</td>\n",
       "      <td>hatchback</td>\n",
       "      <td>rwd</td>\n",
       "      <td>front</td>\n",
       "      <td>-0.706865</td>\n",
       "      <td>-0.230948</td>\n",
       "      <td>...</td>\n",
       "      <td>0.602571</td>\n",
       "      <td>mpfi</td>\n",
       "      <td>-2.398990</td>\n",
       "      <td>0.684245</td>\n",
       "      <td>-0.287645</td>\n",
       "      <td>1.258726</td>\n",
       "      <td>-0.262841</td>\n",
       "      <td>-0.950684</td>\n",
       "      <td>-0.689938</td>\n",
       "      <td>0.418473</td>\n",
       "    </tr>\n",
       "  </tbody>\n",
       "</table>\n",
       "<p>3 rows × 25 columns</p>\n",
       "</div>"
      ],
      "text/plain": [
       "   symboling         make fuel-type aspiration num-of-doors   body-style  \\\n",
       "0   1.739213  alfa-romero       gas        std          two  convertible   \n",
       "1   1.739213  alfa-romero       gas        std          two  convertible   \n",
       "2   0.133183  alfa-romero       gas        std          two    hatchback   \n",
       "\n",
       "  drive-wheels engine-location  wheel-base    length    ...     engine-size  \\\n",
       "0          rwd           front   -1.686643 -0.425480    ...        0.074267   \n",
       "1          rwd           front   -1.686643 -0.425480    ...        0.074267   \n",
       "2          rwd           front   -0.706865 -0.230948    ...        0.602571   \n",
       "\n",
       "   fuel-system      bore    stroke compression-ratio  horsepower  peak-rpm  \\\n",
       "0         mpfi  0.517822 -1.834912         -0.287645    0.170647 -0.262841   \n",
       "1         mpfi  0.517822 -1.834912         -0.287645    0.170647 -0.262841   \n",
       "2         mpfi -2.398990  0.684245         -0.287645    1.258726 -0.262841   \n",
       "\n",
       "   city-mpg  highway-mpg     price  \n",
       "0 -0.644974    -0.544725  0.036584  \n",
       "1 -0.644974    -0.544725  0.418473  \n",
       "2 -0.950684    -0.689938  0.418473  \n",
       "\n",
       "[3 rows x 25 columns]"
      ]
     },
     "execution_count": 17,
     "metadata": {},
     "output_type": "execute_result"
    }
   ],
   "source": [
    "cars_mean.head(3)"
   ]
  },
  {
   "cell_type": "code",
   "execution_count": 18,
   "metadata": {
    "collapsed": true
   },
   "outputs": [],
   "source": [
    "def knn_train_test(columns, target, df, k = 5):\n",
    "    knn = KNeighborsRegressor(n_neighbors= k)\n",
    "    \n",
    "    split_num = np.floor(len(df) * 0.66).astype('int')\n",
    "    train = df[:split_num]\n",
    "    test = df[split_num:]\n",
    "    \n",
    "    fit = knn.fit(train[columns], train[target])\n",
    "    prediction = fit.predict(test[columns])\n",
    "    rmse = np.sqrt(mean_squared_error(test[target], prediction))\n",
    "    \n",
    "    return rmse"
   ]
  },
  {
   "cell_type": "code",
   "execution_count": 19,
   "metadata": {
    "collapsed": false
   },
   "outputs": [
    {
     "data": {
      "text/plain": [
       "['symboling',\n",
       " 'wheel-base',\n",
       " 'length',\n",
       " 'width',\n",
       " 'height',\n",
       " 'curb-weight',\n",
       " 'engine-size',\n",
       " 'bore',\n",
       " 'stroke',\n",
       " 'compression-ratio',\n",
       " 'horsepower',\n",
       " 'peak-rpm',\n",
       " 'city-mpg',\n",
       " 'highway-mpg']"
      ]
     },
     "execution_count": 19,
     "metadata": {},
     "output_type": "execute_result"
    }
   ],
   "source": [
    "number_columns.remove('price')\n",
    "number_columns"
   ]
  },
  {
   "cell_type": "code",
   "execution_count": 20,
   "metadata": {
    "collapsed": false
   },
   "outputs": [
    {
     "data": {
      "text/plain": [
       "{'bore': 1.9079112665962625,\n",
       " 'city-mpg': 0.45192766956037894,\n",
       " 'compression-ratio': 1.0192857194650742,\n",
       " 'curb-weight': 0.32626715699213626,\n",
       " 'engine-size': 0.46948181914971571,\n",
       " 'height': 1.0151957757959,\n",
       " 'highway-mpg': 0.39696724966865876,\n",
       " 'horsepower': 0.52140852825366912,\n",
       " 'length': 0.74433155338012591,\n",
       " 'peak-rpm': 1.238086904167589,\n",
       " 'stroke': 1.0714972237422631,\n",
       " 'symboling': 1.3890098484297928,\n",
       " 'wheel-base': 0.82654192085521139,\n",
       " 'width': 0.4248735064544209}"
      ]
     },
     "execution_count": 20,
     "metadata": {},
     "output_type": "execute_result"
    }
   ],
   "source": [
    "rmses = {}\n",
    "for column in number_columns:\n",
    "    rmses[column] = knn_train_test(columns=[column],\n",
    "                                   target='price',\n",
    "                                   df = cars_mean,\n",
    "                                   k = 5)\n",
    "\n",
    "rmses"
   ]
  },
  {
   "cell_type": "code",
   "execution_count": 21,
   "metadata": {
    "collapsed": false
   },
   "outputs": [
    {
     "data": {
      "text/plain": [
       "[('curb-weight', 0.32626715699213626),\n",
       " ('highway-mpg', 0.39696724966865876),\n",
       " ('width', 0.4248735064544209),\n",
       " ('city-mpg', 0.45192766956037894),\n",
       " ('engine-size', 0.46948181914971571),\n",
       " ('horsepower', 0.52140852825366912),\n",
       " ('length', 0.74433155338012591),\n",
       " ('wheel-base', 0.82654192085521139),\n",
       " ('height', 1.0151957757959),\n",
       " ('compression-ratio', 1.0192857194650742),\n",
       " ('stroke', 1.0714972237422631),\n",
       " ('peak-rpm', 1.238086904167589),\n",
       " ('symboling', 1.3890098484297928),\n",
       " ('bore', 1.9079112665962625)]"
      ]
     },
     "execution_count": 21,
     "metadata": {},
     "output_type": "execute_result"
    }
   ],
   "source": [
    "sorted(rmses.items(), key=lambda x: x[1])"
   ]
  },
  {
   "cell_type": "code",
   "execution_count": 22,
   "metadata": {
    "collapsed": false
   },
   "outputs": [
    {
     "data": {
      "image/png": "[encoded data removed]",
      "text/plain": [
       "<matplotlib.figure.Figure at 0x7f001ee05828>"
      ]
     },
     "metadata": {},
     "output_type": "display_data"
    }
   ],
   "source": [
    "fig, ax = plt.subplots()\n",
    "\n",
    "y_pos = np.arange(len(rmses))\n",
    "\n",
    "ax.barh(y_pos, rmses.values(), align='center', color='#8000ff', ecolor='black')\n",
    "ax.set_yticks(y_pos)\n",
    "ax.set_yticklabels(rmses.keys())\n",
    "ax.invert_yaxis()  # labels read top-to-bottom\n",
    "\n",
    "plt.show()"
   ]
  },
  {
   "cell_type": "code",
   "execution_count": 23,
   "metadata": {
    "collapsed": false
   },
   "outputs": [],
   "source": [
    "k_values = [1,3,5,7,9]\n",
    "rmses_list = [{},{},{},{},{}]\n",
    "\n",
    "for column in number_columns:\n",
    "    for i, k_value in enumerate(k_values):\n",
    "        rmses_list[i][column] = knn_train_test(columns=[column],\n",
    "                                               target='price',\n",
    "                                               df = cars_mean,\n",
    "                                               k = k_value)"
   ]
  },
  {
   "cell_type": "code",
   "execution_count": 24,
   "metadata": {
    "collapsed": false
   },
   "outputs": [
    {
     "data": {
      "text/html": [
       "<div>\n",
       "<table border=\"1\" class=\"dataframe\">\n",
       "  <thead>\n",
       "    <tr style=\"text-align: right;\">\n",
       "      <th></th>\n",
       "      <th>bore</th>\n",
       "      <th>city-mpg</th>\n",
       "      <th>compression-ratio</th>\n",
       "      <th>curb-weight</th>\n",
       "      <th>engine-size</th>\n",
       "      <th>height</th>\n",
       "      <th>highway-mpg</th>\n",
       "      <th>horsepower</th>\n",
       "      <th>length</th>\n",
       "      <th>peak-rpm</th>\n",
       "      <th>stroke</th>\n",
       "      <th>symboling</th>\n",
       "      <th>wheel-base</th>\n",
       "      <th>width</th>\n",
       "    </tr>\n",
       "    <tr>\n",
       "      <th>k_value</th>\n",
       "      <th></th>\n",
       "      <th></th>\n",
       "      <th></th>\n",
       "      <th></th>\n",
       "      <th></th>\n",
       "      <th></th>\n",
       "      <th></th>\n",
       "      <th></th>\n",
       "      <th></th>\n",
       "      <th></th>\n",
       "      <th></th>\n",
       "      <th></th>\n",
       "      <th></th>\n",
       "      <th></th>\n",
       "    </tr>\n",
       "  </thead>\n",
       "  <tbody>\n",
       "    <tr>\n",
       "      <th>1</th>\n",
       "      <td>1.992746</td>\n",
       "      <td>0.531583</td>\n",
       "      <td>1.198595</td>\n",
       "      <td>0.499604</td>\n",
       "      <td>0.694975</td>\n",
       "      <td>1.344858</td>\n",
       "      <td>0.672528</td>\n",
       "      <td>0.627651</td>\n",
       "      <td>0.836146</td>\n",
       "      <td>1.386935</td>\n",
       "      <td>1.401209</td>\n",
       "      <td>1.288958</td>\n",
       "      <td>0.491498</td>\n",
       "      <td>0.908725</td>\n",
       "    </tr>\n",
       "    <tr>\n",
       "      <th>3</th>\n",
       "      <td>1.907480</td>\n",
       "      <td>0.516894</td>\n",
       "      <td>0.804992</td>\n",
       "      <td>0.364208</td>\n",
       "      <td>0.621522</td>\n",
       "      <td>1.205121</td>\n",
       "      <td>0.437633</td>\n",
       "      <td>0.542395</td>\n",
       "      <td>0.705113</td>\n",
       "      <td>1.218040</td>\n",
       "      <td>1.258016</td>\n",
       "      <td>0.861672</td>\n",
       "      <td>0.956873</td>\n",
       "      <td>0.541074</td>\n",
       "    </tr>\n",
       "    <tr>\n",
       "      <th>5</th>\n",
       "      <td>1.907911</td>\n",
       "      <td>0.451928</td>\n",
       "      <td>1.019286</td>\n",
       "      <td>0.326267</td>\n",
       "      <td>0.469482</td>\n",
       "      <td>1.015196</td>\n",
       "      <td>0.396967</td>\n",
       "      <td>0.521409</td>\n",
       "      <td>0.744332</td>\n",
       "      <td>1.238087</td>\n",
       "      <td>1.071497</td>\n",
       "      <td>1.389010</td>\n",
       "      <td>0.826542</td>\n",
       "      <td>0.424874</td>\n",
       "    </tr>\n",
       "    <tr>\n",
       "      <th>7</th>\n",
       "      <td>1.565716</td>\n",
       "      <td>0.431130</td>\n",
       "      <td>0.946135</td>\n",
       "      <td>0.346153</td>\n",
       "      <td>0.403433</td>\n",
       "      <td>0.838706</td>\n",
       "      <td>0.411199</td>\n",
       "      <td>0.468306</td>\n",
       "      <td>0.652796</td>\n",
       "      <td>1.100661</td>\n",
       "      <td>1.117792</td>\n",
       "      <td>1.210027</td>\n",
       "      <td>0.710169</td>\n",
       "      <td>0.433554</td>\n",
       "    </tr>\n",
       "    <tr>\n",
       "      <th>9</th>\n",
       "      <td>1.293267</td>\n",
       "      <td>0.415229</td>\n",
       "      <td>0.766192</td>\n",
       "      <td>0.341763</td>\n",
       "      <td>0.388400</td>\n",
       "      <td>0.730240</td>\n",
       "      <td>0.406666</td>\n",
       "      <td>0.434124</td>\n",
       "      <td>0.597681</td>\n",
       "      <td>1.026728</td>\n",
       "      <td>1.022486</td>\n",
       "      <td>1.000891</td>\n",
       "      <td>0.672053</td>\n",
       "      <td>0.398126</td>\n",
       "    </tr>\n",
       "  </tbody>\n",
       "</table>\n",
       "</div>"
      ],
      "text/plain": [
       "             bore  city-mpg  compression-ratio  curb-weight  engine-size  \\\n",
       "k_value                                                                    \n",
       "1        1.992746  0.531583           1.198595     0.499604     0.694975   \n",
       "3        1.907480  0.516894           0.804992     0.364208     0.621522   \n",
       "5        1.907911  0.451928           1.019286     0.326267     0.469482   \n",
       "7        1.565716  0.431130           0.946135     0.346153     0.403433   \n",
       "9        1.293267  0.415229           0.766192     0.341763     0.388400   \n",
       "\n",
       "           height  highway-mpg  horsepower    length  peak-rpm    stroke  \\\n",
       "k_value                                                                    \n",
       "1        1.344858     0.672528    0.627651  0.836146  1.386935  1.401209   \n",
       "3        1.205121     0.437633    0.542395  0.705113  1.218040  1.258016   \n",
       "5        1.015196     0.396967    0.521409  0.744332  1.238087  1.071497   \n",
       "7        0.838706     0.411199    0.468306  0.652796  1.100661  1.117792   \n",
       "9        0.730240     0.406666    0.434124  0.597681  1.026728  1.022486   \n",
       "\n",
       "         symboling  wheel-base     width  \n",
       "k_value                                   \n",
       "1         1.288958    0.491498  0.908725  \n",
       "3         0.861672    0.956873  0.541074  \n",
       "5         1.389010    0.826542  0.424874  \n",
       "7         1.210027    0.710169  0.433554  \n",
       "9         1.000891    0.672053  0.398126  "
      ]
     },
     "execution_count": 24,
     "metadata": {},
     "output_type": "execute_result"
    }
   ],
   "source": [
    "rmses_pd = pd.DataFrame(rmses_list)\n",
    "rmses_pd['k_value'] = k_values\n",
    "rmses_pd.set_index('k_value', inplace= True)\n",
    "rmses_pd"
   ]
  },
  {
   "cell_type": "code",
   "execution_count": 25,
   "metadata": {
    "collapsed": false
   },
   "outputs": [
    {
     "data": {
      "text/plain": [
       "k_value\n",
       "1    13.876009\n",
       "3    11.941032\n",
       "5    11.802786\n",
       "7    10.635778\n",
       "9     9.493845\n",
       "dtype: float64"
      ]
     },
     "execution_count": 25,
     "metadata": {},
     "output_type": "execute_result"
    }
   ],
   "source": [
    "rmses_pd.sum(axis = 1)"
   ]
  },
  {
   "cell_type": "code",
   "execution_count": 26,
   "metadata": {
    "collapsed": false
   },
   "outputs": [
    {
     "data": {
      "text/plain": [
       "bore                 1.907911\n",
       "city-mpg             0.451928\n",
       "compression-ratio    1.019286\n",
       "curb-weight          0.326267\n",
       "engine-size          0.469482\n",
       "height               1.015196\n",
       "highway-mpg          0.396967\n",
       "horsepower           0.521409\n",
       "length               0.744332\n",
       "peak-rpm             1.238087\n",
       "stroke               1.071497\n",
       "symboling            1.389010\n",
       "wheel-base           0.826542\n",
       "width                0.424874\n",
       "Name: 5, dtype: float64"
      ]
     },
     "execution_count": 26,
     "metadata": {},
     "output_type": "execute_result"
    }
   ],
   "source": [
    "rmses_pd.loc[5,:]"
   ]
  },
  {
   "cell_type": "code",
   "execution_count": 27,
   "metadata": {
    "collapsed": false
   },
   "outputs": [
    {
     "data": {
      "text/plain": [
       "['curb-weight',\n",
       " 'highway-mpg',\n",
       " 'width',\n",
       " 'city-mpg',\n",
       " 'engine-size',\n",
       " 'horsepower',\n",
       " 'length',\n",
       " 'wheel-base',\n",
       " 'height',\n",
       " 'compression-ratio',\n",
       " 'stroke',\n",
       " 'peak-rpm',\n",
       " 'symboling',\n",
       " 'bore']"
      ]
     },
     "execution_count": 27,
     "metadata": {},
     "output_type": "execute_result"
    }
   ],
   "source": [
    "sorted_names = pd.DataFrame(rmses_pd.loc[5,:].sort_values()).reset_index().iloc[:,0].tolist()\n",
    "sorted_names # return sorted list of features"
   ]
  },
  {
   "cell_type": "code",
   "execution_count": 28,
   "metadata": {
    "collapsed": false
   },
   "outputs": [
    {
     "data": {
      "text/plain": [
       "{2: 0.40919218657135742,\n",
       " 3: 0.39257832932580672,\n",
       " 4: 0.28216339516052835,\n",
       " 5: 0.25859567194019206}"
      ]
     },
     "execution_count": 28,
     "metadata": {},
     "output_type": "execute_result"
    }
   ],
   "source": [
    "RMSE_dif_count_features = {}\n",
    "for i in range(2,6):\n",
    "    RMSE_dif_count_features[i] = knn_train_test(columns=sorted_names[0:i],target='price',\n",
    "                                                df = cars_mean, k = 5)\n",
    "    \n",
    "RMSE_dif_count_features"
   ]
  },
  {
   "cell_type": "code",
   "execution_count": 29,
   "metadata": {
    "collapsed": false
   },
   "outputs": [
    {
     "data": {
      "image/png": "[encoded data removed]",
      "text/plain": [
       "<matplotlib.figure.Figure at 0x7f001cdabf98>"
      ]
     },
     "metadata": {},
     "output_type": "display_data"
    }
   ],
   "source": [
    "rmse_plot = {}\n",
    "for i in range(1,26):\n",
    "    rmse_plot[i] = knn_train_test(columns=sorted_names[0:4],target='price', df = cars_mean, k = i)\n",
    "    \n",
    "fig, ax = plt.subplots()\n",
    "ax.plot(list(rmse_plot.keys()), list(rmse_plot.values()), c='#39004d', linewidth = 2)\n",
    "ax.set_title('RMSE: number of neighbors vs rmse. 4 predictors')\n",
    "plt.show()"
   ]
  },
  {
   "cell_type": "code",
   "execution_count": 30,
   "metadata": {
    "collapsed": false
   },
   "outputs": [
    {
     "data": {
      "image/png": "[encoded data removed]",
      "text/plain": [
       "<matplotlib.figure.Figure at 0x7f008997c6a0>"
      ]
     },
     "metadata": {},
     "output_type": "display_data"
    }
   ],
   "source": [
    "rmse_plot = {}\n",
    "for i in range(1,26):\n",
    "    rmse_plot[i] = knn_train_test(columns=sorted_names[0:5],target='price', df = cars_mean, k = i)\n",
    "    \n",
    "fig, ax = plt.subplots()\n",
    "ax.plot(list(rmse_plot.keys()), list(rmse_plot.values()), c='#39004d', linewidth = 2)\n",
    "ax.set_title('RMSE: number of neighbors vs rmse. 5 predictors')\n",
    "plt.show()"
   ]
  },
  {
   "cell_type": "markdown",
   "metadata": {},
   "source": [
    "### Modification (CV) for our k nearest neighbor function"
   ]
  },
  {
   "cell_type": "code",
   "execution_count": 46,
   "metadata": {
    "collapsed": true
   },
   "outputs": [],
   "source": [
    "def knn_train_test(columns, target, df, k = 5, n_folds = 2, seed = 1):\n",
    "    np.random.seed(seed)\n",
    "    knn = KNeighborsRegressor(n_neighbors= k)\n",
    "    \n",
    "    l = len(df)\n",
    "    step = np.floor(l / n_folds)\n",
    "    \n",
    "    for i in range(1, n_folds + 1):\n",
    "        if i == 1:\n",
    "            df.loc[df.index[:step], 'fold'] = 1\n",
    "        elif i == n_folds:\n",
    "            df.loc[df.index[((i - 1)*step):], 'fold'] = n_folds\n",
    "        else:\n",
    "            df.loc[df.index[((i - 1)*step):(i*step)], 'fold'] = i\n",
    "    \n",
    "    \n",
    "    shuffled_index = np.random.permutation(df.index)\n",
    "    rand_df = df.reindex(shuffled_index)\n",
    "    \n",
    "    rmse = []\n",
    "    \n",
    "    for i in range(1, n_folds + 1):\n",
    "        train = rand_df.loc[rand_df['fold'] != i, :]\n",
    "        test  = rand_df.loc[rand_df['fold'] == i, :]\n",
    "        \n",
    "        fit = knn.fit(train[columns], train[target])\n",
    "        prediction = fit.predict(test[columns])\n",
    "        rmse.append(np.sqrt(mean_squared_error(test[target], prediction)))\n",
    "    \n",
    "    return np.mean(rmse)"
   ]
  },
  {
   "cell_type": "code",
   "execution_count": 47,
   "metadata": {
    "collapsed": false
   },
   "outputs": [
    {
     "data": {
      "text/plain": [
       "0.48162466090605449"
      ]
     },
     "execution_count": 47,
     "metadata": {},
     "output_type": "execute_result"
    }
   ],
   "source": [
    "knn_train_test(columns=sorted_names[0:5],target='price', df = cars_mean, k = 4, n_folds=10)"
   ]
  }
 ],
 "metadata": {
  "kernelspec": {
   "display_name": "Python 3",
   "language": "python",
   "name": "python3"
  },
  "language_info": {
   "codemirror_mode": {
    "name": "ipython",
    "version": 3
   },
   "file_extension": ".py",
   "mimetype": "text/x-python",
   "name": "python",
   "nbconvert_exporter": "python",
   "pygments_lexer": "ipython3",
   "version": "3.4.3"
  }
 },
 "nbformat": 4,
 "nbformat_minor": 2
}
