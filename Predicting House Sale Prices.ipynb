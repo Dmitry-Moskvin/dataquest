{
 "cells": [
  {
   "cell_type": "code",
   "execution_count": 1,
   "metadata": {
    "collapsed": true
   },
   "outputs": [],
   "source": [
    "import pandas as pd\n",
    "import numpy as np\n",
    "import matplotlib.pyplot as plt\n",
    "from sklearn.metrics import mean_squared_error\n",
    "from sklearn.linear_model import LinearRegression\n",
    "from sklearn.model_selection import KFold\n",
    "\n",
    "%matplotlib inline"
   ]
  },
  {
   "cell_type": "code",
   "execution_count": 7,
   "metadata": {
    "collapsed": false
   },
   "outputs": [
    {
     "data": {
      "text/html": [
       "<div>\n",
       "<table border=\"1\" class=\"dataframe\">\n",
       "  <thead>\n",
       "    <tr style=\"text-align: right;\">\n",
       "      <th></th>\n",
       "      <th>Order</th>\n",
       "      <th>PID</th>\n",
       "      <th>MS SubClass</th>\n",
       "      <th>MS Zoning</th>\n",
       "      <th>Lot Frontage</th>\n",
       "      <th>Lot Area</th>\n",
       "      <th>Street</th>\n",
       "      <th>Alley</th>\n",
       "      <th>Lot Shape</th>\n",
       "      <th>Land Contour</th>\n",
       "      <th>...</th>\n",
       "      <th>Pool Area</th>\n",
       "      <th>Pool QC</th>\n",
       "      <th>Fence</th>\n",
       "      <th>Misc Feature</th>\n",
       "      <th>Misc Val</th>\n",
       "      <th>Mo Sold</th>\n",
       "      <th>Yr Sold</th>\n",
       "      <th>Sale Type</th>\n",
       "      <th>Sale Condition</th>\n",
       "      <th>SalePrice</th>\n",
       "    </tr>\n",
       "  </thead>\n",
       "  <tbody>\n",
       "    <tr>\n",
       "      <th>0</th>\n",
       "      <td>1</td>\n",
       "      <td>526301100</td>\n",
       "      <td>20</td>\n",
       "      <td>RL</td>\n",
       "      <td>141.0</td>\n",
       "      <td>31770</td>\n",
       "      <td>Pave</td>\n",
       "      <td>NaN</td>\n",
       "      <td>IR1</td>\n",
       "      <td>Lvl</td>\n",
       "      <td>...</td>\n",
       "      <td>0</td>\n",
       "      <td>NaN</td>\n",
       "      <td>NaN</td>\n",
       "      <td>NaN</td>\n",
       "      <td>0</td>\n",
       "      <td>5</td>\n",
       "      <td>2010</td>\n",
       "      <td>WD</td>\n",
       "      <td>Normal</td>\n",
       "      <td>215000</td>\n",
       "    </tr>\n",
       "    <tr>\n",
       "      <th>1</th>\n",
       "      <td>2</td>\n",
       "      <td>526350040</td>\n",
       "      <td>20</td>\n",
       "      <td>RH</td>\n",
       "      <td>80.0</td>\n",
       "      <td>11622</td>\n",
       "      <td>Pave</td>\n",
       "      <td>NaN</td>\n",
       "      <td>Reg</td>\n",
       "      <td>Lvl</td>\n",
       "      <td>...</td>\n",
       "      <td>0</td>\n",
       "      <td>NaN</td>\n",
       "      <td>MnPrv</td>\n",
       "      <td>NaN</td>\n",
       "      <td>0</td>\n",
       "      <td>6</td>\n",
       "      <td>2010</td>\n",
       "      <td>WD</td>\n",
       "      <td>Normal</td>\n",
       "      <td>105000</td>\n",
       "    </tr>\n",
       "    <tr>\n",
       "      <th>2</th>\n",
       "      <td>3</td>\n",
       "      <td>526351010</td>\n",
       "      <td>20</td>\n",
       "      <td>RL</td>\n",
       "      <td>81.0</td>\n",
       "      <td>14267</td>\n",
       "      <td>Pave</td>\n",
       "      <td>NaN</td>\n",
       "      <td>IR1</td>\n",
       "      <td>Lvl</td>\n",
       "      <td>...</td>\n",
       "      <td>0</td>\n",
       "      <td>NaN</td>\n",
       "      <td>NaN</td>\n",
       "      <td>Gar2</td>\n",
       "      <td>12500</td>\n",
       "      <td>6</td>\n",
       "      <td>2010</td>\n",
       "      <td>WD</td>\n",
       "      <td>Normal</td>\n",
       "      <td>172000</td>\n",
       "    </tr>\n",
       "    <tr>\n",
       "      <th>3</th>\n",
       "      <td>4</td>\n",
       "      <td>526353030</td>\n",
       "      <td>20</td>\n",
       "      <td>RL</td>\n",
       "      <td>93.0</td>\n",
       "      <td>11160</td>\n",
       "      <td>Pave</td>\n",
       "      <td>NaN</td>\n",
       "      <td>Reg</td>\n",
       "      <td>Lvl</td>\n",
       "      <td>...</td>\n",
       "      <td>0</td>\n",
       "      <td>NaN</td>\n",
       "      <td>NaN</td>\n",
       "      <td>NaN</td>\n",
       "      <td>0</td>\n",
       "      <td>4</td>\n",
       "      <td>2010</td>\n",
       "      <td>WD</td>\n",
       "      <td>Normal</td>\n",
       "      <td>244000</td>\n",
       "    </tr>\n",
       "    <tr>\n",
       "      <th>4</th>\n",
       "      <td>5</td>\n",
       "      <td>527105010</td>\n",
       "      <td>60</td>\n",
       "      <td>RL</td>\n",
       "      <td>74.0</td>\n",
       "      <td>13830</td>\n",
       "      <td>Pave</td>\n",
       "      <td>NaN</td>\n",
       "      <td>IR1</td>\n",
       "      <td>Lvl</td>\n",
       "      <td>...</td>\n",
       "      <td>0</td>\n",
       "      <td>NaN</td>\n",
       "      <td>MnPrv</td>\n",
       "      <td>NaN</td>\n",
       "      <td>0</td>\n",
       "      <td>3</td>\n",
       "      <td>2010</td>\n",
       "      <td>WD</td>\n",
       "      <td>Normal</td>\n",
       "      <td>189900</td>\n",
       "    </tr>\n",
       "  </tbody>\n",
       "</table>\n",
       "<p>5 rows × 82 columns</p>\n",
       "</div>"
      ],
      "text/plain": [
       "   Order        PID  MS SubClass MS Zoning  Lot Frontage  Lot Area Street  \\\n",
       "0      1  526301100           20        RL         141.0     31770   Pave   \n",
       "1      2  526350040           20        RH          80.0     11622   Pave   \n",
       "2      3  526351010           20        RL          81.0     14267   Pave   \n",
       "3      4  526353030           20        RL          93.0     11160   Pave   \n",
       "4      5  527105010           60        RL          74.0     13830   Pave   \n",
       "\n",
       "  Alley Lot Shape Land Contour    ...     Pool Area Pool QC  Fence  \\\n",
       "0   NaN       IR1          Lvl    ...             0     NaN    NaN   \n",
       "1   NaN       Reg          Lvl    ...             0     NaN  MnPrv   \n",
       "2   NaN       IR1          Lvl    ...             0     NaN    NaN   \n",
       "3   NaN       Reg          Lvl    ...             0     NaN    NaN   \n",
       "4   NaN       IR1          Lvl    ...             0     NaN  MnPrv   \n",
       "\n",
       "  Misc Feature Misc Val Mo Sold Yr Sold Sale Type  Sale Condition  SalePrice  \n",
       "0          NaN        0       5    2010       WD           Normal     215000  \n",
       "1          NaN        0       6    2010       WD           Normal     105000  \n",
       "2         Gar2    12500       6    2010       WD           Normal     172000  \n",
       "3          NaN        0       4    2010       WD           Normal     244000  \n",
       "4          NaN        0       3    2010       WD           Normal     189900  \n",
       "\n",
       "[5 rows x 82 columns]"
      ]
     },
     "execution_count": 7,
     "metadata": {},
     "output_type": "execute_result"
    }
   ],
   "source": [
    "data = pd.read_csv('AmesHousing.tsv', delimiter = '\\t')\n",
    "# https://ww2.amstat.org/publications/jse/v19n3/decock/DataDocumentation.txt \n",
    "data[:5]"
   ]
  },
  {
   "cell_type": "code",
   "execution_count": 9,
   "metadata": {
    "collapsed": true
   },
   "outputs": [],
   "source": [
    "def transform_features(data, cutoff = 0.1):\n",
    "    # remove columns if percent of NaN values is more than cutoff parametr\n",
    "    missing_values = data.isnull().sum()\n",
    "    data = data[missing_values[missing_values < cutoff*len(data)].index]\n",
    "    \n",
    "    # choose numeric and text columns\n",
    "    numeric_cols = data._get_numeric_data().columns.tolist()\n",
    "    text_cols    = data.select_dtypes(include=['object']).columns.tolist() \n",
    "    \n",
    "    # replace text variables to numeric (one hot encoding)\n",
    "    for col in text_cols:\n",
    "        col_dummies = pd.get_dummies(data[col])\n",
    "        data = pd.concat([data, col_dummies], axis = 1)\n",
    "        del data[col]\n",
    "    \n",
    "    \n",
    "    numeric_fill_cols = [x for x in numeric_cols if x[0] in list(missing_values[missing_values < cutoff*len(data)].index)] \n",
    "    data[numeric_fill_cols] = data[numeric_fill_cols].apply(lambda x:x.fillna(x.value_counts().index[0]))\n",
    "   \n",
    "    numeric_fill_cols_mean = [item for item in numeric_cols if item not in numeric_fill_cols]\n",
    "    data[numeric_fill_cols_mean] = data[numeric_fill_cols_mean].fillna(data[numeric_fill_cols_mean].mean())\n",
    "    \n",
    "    return data"
   ]
  },
  {
   "cell_type": "code",
   "execution_count": null,
   "metadata": {
    "collapsed": true
   },
   "outputs": [],
   "source": [
    "# https://machinelearningmastery.com/feature-selection-machine-learning-python/\n",
    "def select_features(data):\n",
    "    return data"
   ]
  },
  {
   "cell_type": "code",
   "execution_count": null,
   "metadata": {
    "collapsed": true
   },
   "outputs": [],
   "source": [
    "def train_and_test(data, target = 'SalePrice', n_folds = 5):\n",
    "    return rmse"
   ]
  },
  {
   "cell_type": "code",
   "execution_count": 12,
   "metadata": {
    "collapsed": true
   },
   "outputs": [],
   "source": [
    "data['years_until_remod'] = data['Year Remod/Add'] - data['Year Built']\n",
    "data.drop(['Year Remod/Add', 'Year Built'], axis=1, inplace=True)"
   ]
  },
  {
   "cell_type": "code",
   "execution_count": 15,
   "metadata": {
    "collapsed": false
   },
   "outputs": [
    {
     "data": {
      "text/plain": [
       "PID                 -0.246521\n",
       "years_until_remod   -0.240168\n",
       "Enclosed Porch      -0.128787\n",
       "Kitchen AbvGr       -0.119814\n",
       "Overall Cond        -0.101697\n",
       "MS SubClass         -0.085092\n",
       "Low Qual Fin SF     -0.037660\n",
       "Bsmt Half Bath      -0.035835\n",
       "Order               -0.031408\n",
       "Yr Sold             -0.030569\n",
       "Misc Val            -0.015691\n",
       "BsmtFin SF 2         0.005891\n",
       "3Ssn Porch           0.032225\n",
       "Mo Sold              0.035259\n",
       "Pool Area            0.068403\n",
       "Screen Porch         0.112151\n",
       "Bedroom AbvGr        0.143913\n",
       "Bsmt Unf SF          0.182855\n",
       "Lot Area             0.266549\n",
       "2nd Flr SF           0.269373\n",
       "Bsmt Full Bath       0.276050\n",
       "Half Bath            0.285056\n",
       "Open Porch SF        0.312951\n",
       "Wood Deck SF         0.327143\n",
       "Lot Frontage         0.357318\n",
       "BsmtFin SF 1         0.432914\n",
       "Fireplaces           0.474558\n",
       "TotRms AbvGrd        0.495474\n",
       "Mas Vnr Area         0.508285\n",
       "Garage Yr Blt        0.526965\n",
       "Full Bath            0.545604\n",
       "1st Flr SF           0.621676\n",
       "Total Bsmt SF        0.632280\n",
       "Garage Area          0.640401\n",
       "Garage Cars          0.647877\n",
       "Gr Liv Area          0.706780\n",
       "Overall Qual         0.799262\n",
       "SalePrice            1.000000\n",
       "Name: SalePrice, dtype: float64"
      ]
     },
     "execution_count": 15,
     "metadata": {},
     "output_type": "execute_result"
    }
   ],
   "source": [
    "data._get_numeric_data().corr()['SalePrice'].sort_values()"
   ]
  },
  {
   "cell_type": "markdown",
   "metadata": {},
   "source": [
    "* Generate a correlation heatmap matrix of the numerical features in the training data set.\n",
    "    * Which features correlate strongly with our target column, SalePrice?\n",
    "    * Calculate the correlation coefficients for the columns that seem to correlate well with SalePrice. Because we have a pipeline in place, it's easy to try different features and see which features result in a better cross validation score.\n",
    "* Which columns in the data frame should be converted to the categorical data type? All of the columns marked as nominal from the documentation are candidates for being converted to categorical. Here are some other things you should think about:\n",
    "    * If a categorical column has hundreds of unique values (or categories), should you keep it? When you dummy code this column, hundreds of columns will need to be added back to the data frame.\n",
    "    * Which categorical columns have a few unique values but more than 95% of the values in the column belong to a specific category? This would be similar to a low variance numerical feature (no variability in the data for the model to capture).\n",
    "* Which columns are currently numerical but need to be encoded as categorical instead (because the numbers don't have any semantic meaning)?\n",
    "* What are some ways we can explore which categorical columns \"correlate\" well with SalePrice?\n",
    "    * Read this post for some potential strategies.\n",
    "* Update the logic for the select_features() function. This function should take in the new, modified train and test data frames that were returned from transform_features()."
   ]
  },
  {
   "cell_type": "markdown",
   "metadata": {},
   "source": [
    "* The optional k parameter should accept integer values, with a default value of 0.\n",
    "* When k equals 0, perform holdout validation (what we already implemented):\n",
    "    * Select the first 1460 rows and assign to train.\n",
    "    * Select the remaining rows and assign to test.\n",
    "    * Train on train and test on test.\n",
    "    * Compute the RMSE and return.\n",
    "* When k equals 1, perform simple cross validation:\n",
    "    * Shuffle the ordering of the rows in the data frame.\n",
    "    * Select the first 1460 rows and assign to fold_one.\n",
    "    * Select the remaining rows and assign to fold_two.\n",
    "    * Train on fold_one and test on fold_two.\n",
    "    * Train on fold_two and test on fold_one.\n",
    "    * Compute the average RMSE and return.\n",
    "* When k is greater than 0, implement k-fold cross validation using k folds:\n",
    "    * Perform k-fold cross validation using k folds.\n",
    "    * Calculate the average RMSE value and return this value."
   ]
  },
  {
   "cell_type": "markdown",
   "metadata": {},
   "source": [
    "Example on [Kaggle](https://www.kaggle.com/c/house-prices-advanced-regression-techniques/kernels)"
   ]
  }
 ],
 "metadata": {
  "anaconda-cloud": {},
  "kernelspec": {
   "display_name": "Python 3",
   "language": "python",
   "name": "python3"
  },
  "language_info": {
   "codemirror_mode": {
    "name": "ipython",
    "version": 3
   },
   "file_extension": ".py",
   "mimetype": "text/x-python",
   "name": "python",
   "nbconvert_exporter": "python",
   "pygments_lexer": "ipython3",
   "version": "3.4.3"
  }
 },
 "nbformat": 4,
 "nbformat_minor": 2
}
